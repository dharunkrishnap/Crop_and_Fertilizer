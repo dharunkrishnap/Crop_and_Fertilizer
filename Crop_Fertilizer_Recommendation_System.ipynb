{
 "cells": [
  {
   "cell_type": "markdown",
   "id": "82b2b2ee",
   "metadata": {},
   "source": [
    "# 🌾 Crop and Fertilizer Recommendation System\n",
    "---\n",
    "This notebook demonstrates a system that recommends the best crops and fertilizers based on soil type using Machine Learning."
   ]
  },
  {
   "cell_type": "code",
   "execution_count": null,
   "id": "d8ee34b2",
   "metadata": {},
   "outputs": [],
   "source": [
    "\n",
    "import pandas as pd\n",
    "from sklearn.model_selection import train_test_split\n",
    "from sklearn.ensemble import RandomForestClassifier\n",
    "from sklearn.metrics import accuracy_score\n",
    "import pickle\n"
   ]
  },
  {
   "cell_type": "markdown",
   "id": "d6286715",
   "metadata": {},
   "source": [
    "## 📌 Dataset Preparation"
   ]
  },
  {
   "cell_type": "code",
   "execution_count": null,
   "id": "ada4cf46",
   "metadata": {},
   "outputs": [],
   "source": [
    "\n",
    "# Expanded sample dataset with more crops and soil types\n",
    "crop_data = {\n",
    "    'N': [90, 85, 60, 74, 88, 92, 70, 65, 55, 80, 75],\n",
    "    'P': [42, 58, 55, 35, 45, 50, 40, 30, 33, 55, 60],\n",
    "    'K': [43, 41, 44, 40, 42, 47, 38, 35, 40, 50, 48],\n",
    "    'temperature': [20.8, 21.7, 23.0, 20.0, 22.5, 24.1, 21.0, 19.5, 22.0, 23.5, 24.0],\n",
    "    'humidity': [82.0, 80.3, 82.3, 80.0, 81.5, 79.2, 78.0, 76.0, 80.0, 77.5, 79.0],\n",
    "    'ph': [6.5, 7.0, 7.8, 7.0, 6.8, 7.2, 6.3, 6.7, 7.1, 6.9, 7.4],\n",
    "    'rainfall': [202.9, 226.6, 263.9, 250.0, 270.5, 300.3, 210.0, 220.0, 230.5, 240.0, 260.0],\n",
    "    'soil': ['clay', 'sandy', 'loamy', 'peaty', 'clay', 'saline', 'loamy', 'sandy', 'peaty', 'saline', 'clay'],\n",
    "    'label': ['rice', 'maize', 'wheat', 'barley', 'rice', 'cotton', 'soybean', 'sorghum', 'millet', 'groundnut', 'sugarcane']\n",
    "}\n",
    "\n",
    "fertilizer_data = {\n",
    "    'Crop': ['rice', 'maize', 'wheat', 'barley', 'cotton', 'soybean', 'sorghum', 'millet', 'groundnut', 'sugarcane'],\n",
    "    'Fertilizer': ['Urea', 'DAP', 'MOP', 'Ammonium Nitrate', 'NPK', 'Rhizobium', 'Superphosphate', 'Potash', 'Calcium Ammonium Nitrate', 'Nitrogenous Fertilizer']\n",
    "}\n",
    "\n",
    "crop_df = pd.DataFrame(crop_data)\n",
    "fertilizer_df = pd.DataFrame(fertilizer_data)\n",
    "\n",
    "crop_df.head()\n"
   ]
  },
  {
   "cell_type": "markdown",
   "id": "141c9255",
   "metadata": {},
   "source": [
    "## 🔍 Model Training"
   ]
  },
  {
   "cell_type": "code",
   "execution_count": null,
   "id": "ca261ddf",
   "metadata": {},
   "outputs": [],
   "source": [
    "\n",
    "# Prepare and train model\n",
    "X = crop_df.drop(['label', 'soil'], axis=1)\n",
    "y = crop_df['label']\n",
    "X_train, X_test, y_train, y_test = train_test_split(X, y, test_size=0.2, random_state=42)\n",
    "crop_model = RandomForestClassifier(n_estimators=100, random_state=42)\n",
    "crop_model.fit(X_train, y_train)\n",
    "predictions = crop_model.predict(X_test)\n",
    "accuracy = accuracy_score(y_test, predictions)\n",
    "print(f\"Crop Prediction Model Accuracy: {accuracy * 100:.2f}%\")\n"
   ]
  },
  {
   "cell_type": "markdown",
   "id": "259cdccd",
   "metadata": {},
   "source": [
    "## 🌱 Crop and Fertilizer Recommendation"
   ]
  },
  {
   "cell_type": "code",
   "execution_count": null,
   "id": "db5ed2d3",
   "metadata": {},
   "outputs": [],
   "source": [
    "\n",
    "def recommend_crops_and_fertilizers(soil_type):\n",
    "    filtered = crop_df[crop_df['soil'] == soil_type.lower()]\n",
    "    if filtered.empty:\n",
    "        return f\"No recommendations available for soil type '{soil_type}'.\"\n",
    "    \n",
    "    recommendations = []\n",
    "    for _, row in filtered.iterrows():\n",
    "        crop = row['label']\n",
    "        fertilizer = fertilizer_df[fertilizer_df['Crop'] == crop]['Fertilizer'].values[0]\n",
    "        recommendations.append((crop, fertilizer))\n",
    "    return recommendations\n"
   ]
  },
  {
   "cell_type": "markdown",
   "id": "5b6cd45d",
   "metadata": {},
   "source": [
    "## ✅ Try the Recommendation System"
   ]
  },
  {
   "cell_type": "code",
   "execution_count": null,
   "id": "c6b7faee",
   "metadata": {},
   "outputs": [],
   "source": [
    "\n",
    "# Input soil type\n",
    "soil = input(\"Enter soil type (e.g., clay, sandy, loamy, peaty, saline): \")\n",
    "\n",
    "# Get recommendations\n",
    "result = recommend_crops_and_fertilizers(soil)\n",
    "\n",
    "# Print results\n",
    "if isinstance(result, str):\n",
    "    print(result)\n",
    "else:\n",
    "    print(f\"\\nRecommended crops and fertilizers for soil type '{soil}':\")\n",
    "    for crop, fertilizer in result:\n",
    "        print(f\"- Crop: {crop.capitalize()}, Fertilizer: {fertilizer}\")\n"
   ]
  }
 ],
 "metadata": {},
 "nbformat": 4,
 "nbformat_minor": 5
}
